{
 "cells": [
  {
   "cell_type": "markdown",
   "metadata": {},
   "source": [
    "# Random graph models: simulations using GraSPy"
   ]
  },
  {
   "cell_type": "code",
   "execution_count": null,
   "metadata": {
    "scrolled": true
   },
   "outputs": [],
   "source": [
    "import graspy\n",
    "import numpy as np \n",
    "import seaborn as sns\n",
    "from graspy.simulations import er_np, sbm, rdpg\n",
    "from graspy.plot import heatmap\n",
    "np.random.seed(8888)\n",
    "%matplotlib inline\n",
    "sns.set_context('talk', font_scale=2)\n",
    "heatmap_kws = dict(cbar=False, font_scale=2)\n",
    "print(\"GraSPy version: {}\".format(graspy.__version__))"
   ]
  },
  {
   "cell_type": "markdown",
   "metadata": {},
   "source": [
    "Here we will consider undirected, unweighted graphs"
   ]
  },
  {
   "cell_type": "markdown",
   "metadata": {},
   "source": [
    "## Erdos-Renyi (ER) \n",
    "Erdos-Renyi (ER) graphs are the simplest generative model we will consider. Here, the probability of a connection between any two nodes is the same, specified by the parameter $p$. We will also specify $n$, the number of nodes. "
   ]
  },
  {
   "cell_type": "markdown",
   "metadata": {},
   "source": [
    "Below we sample an ER graph with 100 nodes and an overall connection probability of 0.3. "
   ]
  },
  {
   "cell_type": "code",
   "execution_count": null,
   "metadata": {},
   "outputs": [],
   "source": [
    "n = 100\n",
    "p = 0.3\n",
    "er_sample = er_np(n=n, p=p)\n",
    "print(er_sample.shape)\n",
    "heatmap(er_sample, title=\"ER Sample\", **heatmap_kws)"
   ]
  },
  {
   "cell_type": "markdown",
   "metadata": {},
   "source": [
    "We can also specify a directed graph"
   ]
  },
  {
   "cell_type": "code",
   "execution_count": null,
   "metadata": {},
   "outputs": [],
   "source": [
    "er_sample = er_np(n=n, p=p, directed=True)\n",
    "heatmap(er_sample, title=\"ER Sample (directed)\", **heatmap_kws)"
   ]
  },
  {
   "cell_type": "markdown",
   "metadata": {},
   "source": [
    "## Stochastic Block Model (SBM) \n",
    "The stochastic block model is slightly more complicated, as each node is assigned into a community. The probability of an edge from node $i$ to node $j$ is purely a function of the blocks that node $i$ and $j$ belong to. This is specified by a $K \\times K$ matrix $B$, where the element $B_{k, l}$ represents the probability of connections from block $k$ to block $l$. "
   ]
  },
  {
   "cell_type": "code",
   "execution_count": null,
   "metadata": {
    "scrolled": false
   },
   "outputs": [],
   "source": [
    "B = [[0.5, 0.2],\n",
    "     [0.2, 0.05]]\n",
    "\n",
    "n = [50, 50] # this is the number of verts in each block\n",
    "\n",
    "labels = n[0]*[0] + n[1] * [1] # just for plotting\n",
    "\n",
    "sbm_sample = sbm(n, B)\n",
    "\n",
    "\n",
    "plt.figure(figsize=(10,10))\n",
    "ax = sns.heatmap(B,\n",
    "                 cbar=False,\n",
    "                 square=True,\n",
    "                 annot=True,\n",
    "                 cmap=\"Reds\",\n",
    "                 xticklabels=False,\n",
    "                 yticklabels=False)\n",
    "plt.title('Block probability matrix')\n",
    "\n",
    "\n",
    "heatmap(sbm_sample, title='SBM sample', inner_hier_labels=labels, **heatmap_kws)"
   ]
  },
  {
   "cell_type": "markdown",
   "metadata": {},
   "source": [
    "## Random Dot Product Graph (RDPG)\n",
    "\n",
    "The RDPG model assumes that each vertex in the graph has a hidden, $d$-dimensional latent position which governs its probability of connection with other nodes. The probability of a connection between node $i$ and node $j$ is just equal to the dot product of their latent positions. These latent positions are typically unobserved, but we can estimate them from an observed graph (more on that in a later tutorial). \n",
    "\n",
    "In this case, we will sample latent positions from a uniform distribution on part of the Hardy-Weinberg curve (this is simply some quadradic function in 2 dimensions, in this case). From these latent positions, we can sample a random graph. "
   ]
  },
  {
   "cell_type": "code",
   "execution_count": null,
   "metadata": {
    "scrolled": false
   },
   "outputs": [],
   "source": [
    "def hardy_weinberg(theta):\n",
    "    \"\"\"\n",
    "    Quadratic function of some distance theta\n",
    "    \n",
    "    \"\"\"\n",
    "    hw = [theta ** 2, 2 * theta * (1 - theta), ]\n",
    "    return np.array(hw).T\n",
    "\n",
    "n = 100\n",
    "\n",
    "dists = np.random.uniform(0.2, 0.5, size=(n))\n",
    "\n",
    "X = hardy_weinberg(dists)\n",
    "rdpg_sample = rdpg(X)\n",
    "\n",
    "plt.figure(figsize=(10,10))\n",
    "sns.scatterplot(X[:, 0], X[:, 1])\n",
    "plt.title('Latent positions (X)')\n",
    "\n",
    "heatmap(rdpg_sample, title='RDPG sample', **heatmap_kws)"
   ]
  }
 ],
 "metadata": {
  "kernelspec": {
   "display_name": "Python 3",
   "language": "python",
   "name": "python3"
  },
  "language_info": {
   "codemirror_mode": {
    "name": "ipython",
    "version": 3
   },
   "file_extension": ".py",
   "mimetype": "text/x-python",
   "name": "python",
   "nbconvert_exporter": "python",
   "pygments_lexer": "ipython3",
   "version": "3.7.3"
  }
 },
 "nbformat": 4,
 "nbformat_minor": 2
}
